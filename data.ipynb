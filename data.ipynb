{
 "cells": [
  {
   "cell_type": "markdown",
   "id": "8f0e5a23",
   "metadata": {},
   "source": [
    "# Importo Pandas"
   ]
  },
  {
   "cell_type": "code",
   "execution_count": 1,
   "id": "00a980b5",
   "metadata": {},
   "outputs": [],
   "source": [
    "import pandas as pd\n",
    "import numpy as np"
   ]
  },
  {
   "cell_type": "markdown",
   "id": "54362a83",
   "metadata": {},
   "source": [
    "# creo la direccion del archivo de las tablas"
   ]
  },
  {
   "cell_type": "code",
   "execution_count": 2,
   "id": "20181406",
   "metadata": {},
   "outputs": [],
   "source": [
    "xlsx_path = \"/Users/dieh.penalba/Workspace/Peñalba Diego - Proyecto Aurelion/Base de datos/\"\n",
    "clientesFileName = \"clientes.xlsx\"\n",
    "productosFileName = \"productos.xlsx\"\n",
    "ventasFileName = \"ventas.xlsx\"\n",
    "detalleVentasFileName = \"detalle_ventas.xlsx\"\n"
   ]
  },
  {
   "cell_type": "markdown",
   "id": "35041cdf",
   "metadata": {},
   "source": [
    "# Analizo tabla por tabla"
   ]
  },
  {
   "cell_type": "code",
   "execution_count": 3,
   "id": "5a367d0e",
   "metadata": {},
   "outputs": [
    {
     "data": {
      "text/html": [
       "<div>\n",
       "<style scoped>\n",
       "    .dataframe tbody tr th:only-of-type {\n",
       "        vertical-align: middle;\n",
       "    }\n",
       "\n",
       "    .dataframe tbody tr th {\n",
       "        vertical-align: top;\n",
       "    }\n",
       "\n",
       "    .dataframe thead th {\n",
       "        text-align: right;\n",
       "    }\n",
       "</style>\n",
       "<table border=\"1\" class=\"dataframe\">\n",
       "  <thead>\n",
       "    <tr style=\"text-align: right;\">\n",
       "      <th></th>\n",
       "      <th>id_cliente</th>\n",
       "      <th>nombre_cliente</th>\n",
       "      <th>email</th>\n",
       "      <th>ciudad</th>\n",
       "      <th>fecha_alta</th>\n",
       "    </tr>\n",
       "  </thead>\n",
       "  <tbody>\n",
       "    <tr>\n",
       "      <th>0</th>\n",
       "      <td>1</td>\n",
       "      <td>Mariana Lopez</td>\n",
       "      <td>mariana.lopez@mail.com</td>\n",
       "      <td>Carlos Paz</td>\n",
       "      <td>2023-01-01</td>\n",
       "    </tr>\n",
       "    <tr>\n",
       "      <th>1</th>\n",
       "      <td>2</td>\n",
       "      <td>Nicolas Rojas</td>\n",
       "      <td>nicolas.rojas@mail.com</td>\n",
       "      <td>Carlos Paz</td>\n",
       "      <td>2023-01-02</td>\n",
       "    </tr>\n",
       "    <tr>\n",
       "      <th>2</th>\n",
       "      <td>3</td>\n",
       "      <td>Hernan Martinez</td>\n",
       "      <td>hernan.martinez@mail.com</td>\n",
       "      <td>Rio Cuarto</td>\n",
       "      <td>2023-01-03</td>\n",
       "    </tr>\n",
       "    <tr>\n",
       "      <th>3</th>\n",
       "      <td>4</td>\n",
       "      <td>Uma Martinez</td>\n",
       "      <td>uma.martinez@mail.com</td>\n",
       "      <td>Carlos Paz</td>\n",
       "      <td>2023-01-04</td>\n",
       "    </tr>\n",
       "    <tr>\n",
       "      <th>4</th>\n",
       "      <td>5</td>\n",
       "      <td>Agustina Flores</td>\n",
       "      <td>agustina.flores@mail.com</td>\n",
       "      <td>Cordoba</td>\n",
       "      <td>2023-01-05</td>\n",
       "    </tr>\n",
       "  </tbody>\n",
       "</table>\n",
       "</div>"
      ],
      "text/plain": [
       "   id_cliente   nombre_cliente                     email      ciudad  \\\n",
       "0           1    Mariana Lopez    mariana.lopez@mail.com  Carlos Paz   \n",
       "1           2    Nicolas Rojas    nicolas.rojas@mail.com  Carlos Paz   \n",
       "2           3  Hernan Martinez  hernan.martinez@mail.com  Rio Cuarto   \n",
       "3           4     Uma Martinez     uma.martinez@mail.com  Carlos Paz   \n",
       "4           5  Agustina Flores  agustina.flores@mail.com     Cordoba   \n",
       "\n",
       "  fecha_alta  \n",
       "0 2023-01-01  \n",
       "1 2023-01-02  \n",
       "2 2023-01-03  \n",
       "3 2023-01-04  \n",
       "4 2023-01-05  "
      ]
     },
     "execution_count": 3,
     "metadata": {},
     "output_type": "execute_result"
    }
   ],
   "source": [
    "clientes_df = pd.read_excel(xlsx_path+clientesFileName)\n",
    "clientes_df.head()"
   ]
  },
  {
   "cell_type": "code",
   "execution_count": 4,
   "id": "aabe4fec",
   "metadata": {},
   "outputs": [
    {
     "name": "stdout",
     "output_type": "stream",
     "text": [
      "<class 'pandas.core.frame.DataFrame'>\n",
      "RangeIndex: 100 entries, 0 to 99\n",
      "Data columns (total 5 columns):\n",
      " #   Column          Non-Null Count  Dtype         \n",
      "---  ------          --------------  -----         \n",
      " 0   id_cliente      100 non-null    int64         \n",
      " 1   nombre_cliente  100 non-null    object        \n",
      " 2   email           100 non-null    object        \n",
      " 3   ciudad          100 non-null    object        \n",
      " 4   fecha_alta      100 non-null    datetime64[ns]\n",
      "dtypes: datetime64[ns](1), int64(1), object(3)\n",
      "memory usage: 4.0+ KB\n"
     ]
    }
   ],
   "source": [
    "clientes_df.info()"
   ]
  },
  {
   "cell_type": "code",
   "execution_count": 5,
   "id": "876dd696",
   "metadata": {},
   "outputs": [
    {
     "data": {
      "text/html": [
       "<div>\n",
       "<style scoped>\n",
       "    .dataframe tbody tr th:only-of-type {\n",
       "        vertical-align: middle;\n",
       "    }\n",
       "\n",
       "    .dataframe tbody tr th {\n",
       "        vertical-align: top;\n",
       "    }\n",
       "\n",
       "    .dataframe thead th {\n",
       "        text-align: right;\n",
       "    }\n",
       "</style>\n",
       "<table border=\"1\" class=\"dataframe\">\n",
       "  <thead>\n",
       "    <tr style=\"text-align: right;\">\n",
       "      <th></th>\n",
       "      <th>id_producto</th>\n",
       "      <th>nombre_producto</th>\n",
       "      <th>categoria</th>\n",
       "      <th>precio_unitario</th>\n",
       "    </tr>\n",
       "  </thead>\n",
       "  <tbody>\n",
       "    <tr>\n",
       "      <th>0</th>\n",
       "      <td>1</td>\n",
       "      <td>Coca Cola 1.5L</td>\n",
       "      <td>Alimentos</td>\n",
       "      <td>2347</td>\n",
       "    </tr>\n",
       "    <tr>\n",
       "      <th>1</th>\n",
       "      <td>2</td>\n",
       "      <td>Pepsi 1.5L</td>\n",
       "      <td>Limpieza</td>\n",
       "      <td>4973</td>\n",
       "    </tr>\n",
       "    <tr>\n",
       "      <th>2</th>\n",
       "      <td>3</td>\n",
       "      <td>Sprite 1.5L</td>\n",
       "      <td>Alimentos</td>\n",
       "      <td>4964</td>\n",
       "    </tr>\n",
       "    <tr>\n",
       "      <th>3</th>\n",
       "      <td>4</td>\n",
       "      <td>Fanta Naranja 1.5L</td>\n",
       "      <td>Limpieza</td>\n",
       "      <td>2033</td>\n",
       "    </tr>\n",
       "    <tr>\n",
       "      <th>4</th>\n",
       "      <td>5</td>\n",
       "      <td>Agua Mineral 500ml</td>\n",
       "      <td>Alimentos</td>\n",
       "      <td>4777</td>\n",
       "    </tr>\n",
       "  </tbody>\n",
       "</table>\n",
       "</div>"
      ],
      "text/plain": [
       "   id_producto     nombre_producto  categoria  precio_unitario\n",
       "0            1      Coca Cola 1.5L  Alimentos             2347\n",
       "1            2          Pepsi 1.5L   Limpieza             4973\n",
       "2            3         Sprite 1.5L  Alimentos             4964\n",
       "3            4  Fanta Naranja 1.5L   Limpieza             2033\n",
       "4            5  Agua Mineral 500ml  Alimentos             4777"
      ]
     },
     "execution_count": 5,
     "metadata": {},
     "output_type": "execute_result"
    }
   ],
   "source": [
    "productos_df = pd.read_excel(xlsx_path+productosFileName)\n",
    "productos_df.head()"
   ]
  },
  {
   "cell_type": "code",
   "execution_count": 6,
   "id": "26855a26",
   "metadata": {},
   "outputs": [
    {
     "name": "stdout",
     "output_type": "stream",
     "text": [
      "<class 'pandas.core.frame.DataFrame'>\n",
      "RangeIndex: 100 entries, 0 to 99\n",
      "Data columns (total 4 columns):\n",
      " #   Column           Non-Null Count  Dtype \n",
      "---  ------           --------------  ----- \n",
      " 0   id_producto      100 non-null    int64 \n",
      " 1   nombre_producto  100 non-null    object\n",
      " 2   categoria        100 non-null    object\n",
      " 3   precio_unitario  100 non-null    int64 \n",
      "dtypes: int64(2), object(2)\n",
      "memory usage: 3.3+ KB\n"
     ]
    }
   ],
   "source": [
    "productos_df.info()"
   ]
  },
  {
   "cell_type": "code",
   "execution_count": 7,
   "id": "22557c4f",
   "metadata": {},
   "outputs": [
    {
     "data": {
      "text/html": [
       "<div>\n",
       "<style scoped>\n",
       "    .dataframe tbody tr th:only-of-type {\n",
       "        vertical-align: middle;\n",
       "    }\n",
       "\n",
       "    .dataframe tbody tr th {\n",
       "        vertical-align: top;\n",
       "    }\n",
       "\n",
       "    .dataframe thead th {\n",
       "        text-align: right;\n",
       "    }\n",
       "</style>\n",
       "<table border=\"1\" class=\"dataframe\">\n",
       "  <thead>\n",
       "    <tr style=\"text-align: right;\">\n",
       "      <th></th>\n",
       "      <th>id_venta</th>\n",
       "      <th>fecha</th>\n",
       "      <th>id_cliente</th>\n",
       "      <th>nombre_cliente</th>\n",
       "      <th>email</th>\n",
       "      <th>medio_pago</th>\n",
       "    </tr>\n",
       "  </thead>\n",
       "  <tbody>\n",
       "    <tr>\n",
       "      <th>0</th>\n",
       "      <td>1</td>\n",
       "      <td>2024-06-19</td>\n",
       "      <td>62</td>\n",
       "      <td>Guadalupe Romero</td>\n",
       "      <td>guadalupe.romero@mail.com</td>\n",
       "      <td>tarjeta</td>\n",
       "    </tr>\n",
       "    <tr>\n",
       "      <th>1</th>\n",
       "      <td>2</td>\n",
       "      <td>2024-03-17</td>\n",
       "      <td>49</td>\n",
       "      <td>Olivia Gomez</td>\n",
       "      <td>olivia.gomez@mail.com</td>\n",
       "      <td>qr</td>\n",
       "    </tr>\n",
       "    <tr>\n",
       "      <th>2</th>\n",
       "      <td>3</td>\n",
       "      <td>2024-01-13</td>\n",
       "      <td>20</td>\n",
       "      <td>Tomas Acosta</td>\n",
       "      <td>tomas.acosta@mail.com</td>\n",
       "      <td>tarjeta</td>\n",
       "    </tr>\n",
       "    <tr>\n",
       "      <th>3</th>\n",
       "      <td>4</td>\n",
       "      <td>2024-02-27</td>\n",
       "      <td>36</td>\n",
       "      <td>Martina Molina</td>\n",
       "      <td>martina.molina@mail.com</td>\n",
       "      <td>transferencia</td>\n",
       "    </tr>\n",
       "    <tr>\n",
       "      <th>4</th>\n",
       "      <td>5</td>\n",
       "      <td>2024-06-11</td>\n",
       "      <td>56</td>\n",
       "      <td>Bruno Diaz</td>\n",
       "      <td>bruno.diaz@mail.com</td>\n",
       "      <td>tarjeta</td>\n",
       "    </tr>\n",
       "  </tbody>\n",
       "</table>\n",
       "</div>"
      ],
      "text/plain": [
       "   id_venta      fecha  id_cliente    nombre_cliente  \\\n",
       "0         1 2024-06-19          62  Guadalupe Romero   \n",
       "1         2 2024-03-17          49      Olivia Gomez   \n",
       "2         3 2024-01-13          20      Tomas Acosta   \n",
       "3         4 2024-02-27          36    Martina Molina   \n",
       "4         5 2024-06-11          56        Bruno Diaz   \n",
       "\n",
       "                       email     medio_pago  \n",
       "0  guadalupe.romero@mail.com        tarjeta  \n",
       "1      olivia.gomez@mail.com             qr  \n",
       "2      tomas.acosta@mail.com        tarjeta  \n",
       "3    martina.molina@mail.com  transferencia  \n",
       "4        bruno.diaz@mail.com        tarjeta  "
      ]
     },
     "execution_count": 7,
     "metadata": {},
     "output_type": "execute_result"
    }
   ],
   "source": [
    "ventas_df = pd.read_excel(xlsx_path+ventasFileName)\n",
    "ventas_df.head()"
   ]
  },
  {
   "cell_type": "code",
   "execution_count": 8,
   "id": "c833096e",
   "metadata": {},
   "outputs": [
    {
     "name": "stdout",
     "output_type": "stream",
     "text": [
      "<class 'pandas.core.frame.DataFrame'>\n",
      "RangeIndex: 120 entries, 0 to 119\n",
      "Data columns (total 6 columns):\n",
      " #   Column          Non-Null Count  Dtype         \n",
      "---  ------          --------------  -----         \n",
      " 0   id_venta        120 non-null    int64         \n",
      " 1   fecha           120 non-null    datetime64[ns]\n",
      " 2   id_cliente      120 non-null    int64         \n",
      " 3   nombre_cliente  120 non-null    object        \n",
      " 4   email           120 non-null    object        \n",
      " 5   medio_pago      120 non-null    object        \n",
      "dtypes: datetime64[ns](1), int64(2), object(3)\n",
      "memory usage: 5.8+ KB\n"
     ]
    }
   ],
   "source": [
    "ventas_df.info()"
   ]
  },
  {
   "cell_type": "code",
   "execution_count": 9,
   "id": "04feabae",
   "metadata": {},
   "outputs": [
    {
     "data": {
      "text/html": [
       "<div>\n",
       "<style scoped>\n",
       "    .dataframe tbody tr th:only-of-type {\n",
       "        vertical-align: middle;\n",
       "    }\n",
       "\n",
       "    .dataframe tbody tr th {\n",
       "        vertical-align: top;\n",
       "    }\n",
       "\n",
       "    .dataframe thead th {\n",
       "        text-align: right;\n",
       "    }\n",
       "</style>\n",
       "<table border=\"1\" class=\"dataframe\">\n",
       "  <thead>\n",
       "    <tr style=\"text-align: right;\">\n",
       "      <th></th>\n",
       "      <th>id_venta</th>\n",
       "      <th>id_producto</th>\n",
       "      <th>nombre_producto</th>\n",
       "      <th>cantidad</th>\n",
       "      <th>precio_unitario</th>\n",
       "      <th>importe</th>\n",
       "    </tr>\n",
       "  </thead>\n",
       "  <tbody>\n",
       "    <tr>\n",
       "      <th>0</th>\n",
       "      <td>1</td>\n",
       "      <td>90</td>\n",
       "      <td>Toallas Húmedas x50</td>\n",
       "      <td>1</td>\n",
       "      <td>2902</td>\n",
       "      <td>2902</td>\n",
       "    </tr>\n",
       "    <tr>\n",
       "      <th>1</th>\n",
       "      <td>2</td>\n",
       "      <td>82</td>\n",
       "      <td>Aceitunas Negras 200g</td>\n",
       "      <td>5</td>\n",
       "      <td>2394</td>\n",
       "      <td>11970</td>\n",
       "    </tr>\n",
       "    <tr>\n",
       "      <th>2</th>\n",
       "      <td>2</td>\n",
       "      <td>39</td>\n",
       "      <td>Helado Vainilla 1L</td>\n",
       "      <td>5</td>\n",
       "      <td>469</td>\n",
       "      <td>2345</td>\n",
       "    </tr>\n",
       "    <tr>\n",
       "      <th>3</th>\n",
       "      <td>2</td>\n",
       "      <td>70</td>\n",
       "      <td>Fernet 750ml</td>\n",
       "      <td>2</td>\n",
       "      <td>4061</td>\n",
       "      <td>8122</td>\n",
       "    </tr>\n",
       "    <tr>\n",
       "      <th>4</th>\n",
       "      <td>2</td>\n",
       "      <td>22</td>\n",
       "      <td>Medialunas de Manteca</td>\n",
       "      <td>1</td>\n",
       "      <td>2069</td>\n",
       "      <td>2069</td>\n",
       "    </tr>\n",
       "  </tbody>\n",
       "</table>\n",
       "</div>"
      ],
      "text/plain": [
       "   id_venta  id_producto        nombre_producto  cantidad  precio_unitario  \\\n",
       "0         1           90    Toallas Húmedas x50         1             2902   \n",
       "1         2           82  Aceitunas Negras 200g         5             2394   \n",
       "2         2           39     Helado Vainilla 1L         5              469   \n",
       "3         2           70           Fernet 750ml         2             4061   \n",
       "4         2           22  Medialunas de Manteca         1             2069   \n",
       "\n",
       "   importe  \n",
       "0     2902  \n",
       "1    11970  \n",
       "2     2345  \n",
       "3     8122  \n",
       "4     2069  "
      ]
     },
     "execution_count": 9,
     "metadata": {},
     "output_type": "execute_result"
    }
   ],
   "source": [
    "detalleVentas_df = pd.read_excel(xlsx_path+detalleVentasFileName)\n",
    "detalleVentas_df.head()"
   ]
  },
  {
   "cell_type": "code",
   "execution_count": 10,
   "id": "86a40d9b",
   "metadata": {},
   "outputs": [
    {
     "name": "stdout",
     "output_type": "stream",
     "text": [
      "<class 'pandas.core.frame.DataFrame'>\n",
      "RangeIndex: 343 entries, 0 to 342\n",
      "Data columns (total 6 columns):\n",
      " #   Column           Non-Null Count  Dtype \n",
      "---  ------           --------------  ----- \n",
      " 0   id_venta         343 non-null    int64 \n",
      " 1   id_producto      343 non-null    int64 \n",
      " 2   nombre_producto  343 non-null    object\n",
      " 3   cantidad         343 non-null    int64 \n",
      " 4   precio_unitario  343 non-null    int64 \n",
      " 5   importe          343 non-null    int64 \n",
      "dtypes: int64(5), object(1)\n",
      "memory usage: 16.2+ KB\n"
     ]
    }
   ],
   "source": [
    "detalleVentas_df.info()"
   ]
  }
 ],
 "metadata": {
  "kernelspec": {
   "display_name": "Python 3",
   "language": "python",
   "name": "python3"
  },
  "language_info": {
   "codemirror_mode": {
    "name": "ipython",
    "version": 3
   },
   "file_extension": ".py",
   "mimetype": "text/x-python",
   "name": "python",
   "nbconvert_exporter": "python",
   "pygments_lexer": "ipython3",
   "version": "3.11.11"
  }
 },
 "nbformat": 4,
 "nbformat_minor": 5
}
